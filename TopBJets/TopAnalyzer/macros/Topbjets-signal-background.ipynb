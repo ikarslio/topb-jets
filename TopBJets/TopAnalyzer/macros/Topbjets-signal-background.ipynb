{
 "cells": [
  {
   "cell_type": "code",
   "execution_count": 1,
   "id": "10e436dc",
   "metadata": {},
   "outputs": [],
   "source": [
    "import numpy as np\n",
    "import pandas as pd\n",
    "import matplotlib.pyplot as plt\n",
    "import uproot\n",
    "import awkward as ak\n",
    "from sklearn.preprocessing import StandardScaler\n",
    "from imblearn.over_sampling import RandomOverSampler"
   ]
  },
  {
   "cell_type": "code",
   "execution_count": 2,
   "id": "68884f63",
   "metadata": {},
   "outputs": [
    {
     "data": {
      "text/html": [
       "<div>\n",
       "<style scoped>\n",
       "    .dataframe tbody tr th:only-of-type {\n",
       "        vertical-align: middle;\n",
       "    }\n",
       "\n",
       "    .dataframe tbody tr th {\n",
       "        vertical-align: top;\n",
       "    }\n",
       "\n",
       "    .dataframe thead th {\n",
       "        text-align: right;\n",
       "    }\n",
       "</style>\n",
       "<table border=\"1\" class=\"dataframe\">\n",
       "  <thead>\n",
       "    <tr style=\"text-align: right;\">\n",
       "      <th></th>\n",
       "      <th>fLxy</th>\n",
       "      <th>fLxysig</th>\n",
       "      <th>fCt</th>\n",
       "      <th>fChi2</th>\n",
       "      <th>fMass_lepD</th>\n",
       "      <th>fMass</th>\n",
       "    </tr>\n",
       "  </thead>\n",
       "  <tbody>\n",
       "    <tr>\n",
       "      <th>0</th>\n",
       "      <td>0.894625</td>\n",
       "      <td>68.715301</td>\n",
       "      <td>0.105550</td>\n",
       "      <td>0.371413</td>\n",
       "      <td>3.508988</td>\n",
       "      <td>1.865707</td>\n",
       "    </tr>\n",
       "    <tr>\n",
       "      <th>1</th>\n",
       "      <td>0.087048</td>\n",
       "      <td>4.305304</td>\n",
       "      <td>0.012206</td>\n",
       "      <td>0.102639</td>\n",
       "      <td>2.498656</td>\n",
       "      <td>1.871394</td>\n",
       "    </tr>\n",
       "    <tr>\n",
       "      <th>2</th>\n",
       "      <td>2.602185</td>\n",
       "      <td>56.173694</td>\n",
       "      <td>0.066441</td>\n",
       "      <td>3.094246</td>\n",
       "      <td>3.868814</td>\n",
       "      <td>1.847630</td>\n",
       "    </tr>\n",
       "    <tr>\n",
       "      <th>3</th>\n",
       "      <td>0.187600</td>\n",
       "      <td>10.480328</td>\n",
       "      <td>0.018901</td>\n",
       "      <td>3.967425</td>\n",
       "      <td>3.952805</td>\n",
       "      <td>1.853929</td>\n",
       "    </tr>\n",
       "    <tr>\n",
       "      <th>4</th>\n",
       "      <td>0.507901</td>\n",
       "      <td>16.896989</td>\n",
       "      <td>0.017286</td>\n",
       "      <td>1.283057</td>\n",
       "      <td>3.648766</td>\n",
       "      <td>1.872674</td>\n",
       "    </tr>\n",
       "  </tbody>\n",
       "</table>\n",
       "</div>"
      ],
      "text/plain": [
       "       fLxy    fLxysig       fCt     fChi2  fMass_lepD     fMass\n",
       "0  0.894625  68.715301  0.105550  0.371413    3.508988  1.865707\n",
       "1  0.087048   4.305304  0.012206  0.102639    2.498656  1.871394\n",
       "2  2.602185  56.173694  0.066441  3.094246    3.868814  1.847630\n",
       "3  0.187600  10.480328  0.018901  3.967425    3.952805  1.853929\n",
       "4  0.507901  16.896989  0.017286  1.283057    3.648766  1.872674"
      ]
     },
     "execution_count": 2,
     "metadata": {},
     "output_type": "execute_result"
    }
   ],
   "source": [
    "signal = uproot.open('/Users/chawla19/Topbjets/Bdecays/Parameterization/ul2018.root:tree')\n",
    "df1 = signal.arrays((\"fLxy\",\"fLxysig\",\"fCt\",\"fChi2\",\"fMass_lepD\",\"fMass\"), library=\"pd\")\n",
    "df1 = df1.reset_index(level='subentry', drop=True)\n",
    "df1 = df1.reset_index(level='entry', drop=True)\n",
    "df1 = df1.reset_index(drop=True)\n",
    "df1.head()"
   ]
  },
  {
   "cell_type": "code",
   "execution_count": 3,
   "id": "313f804b",
   "metadata": {},
   "outputs": [
    {
     "data": {
      "text/html": [
       "<div>\n",
       "<style scoped>\n",
       "    .dataframe tbody tr th:only-of-type {\n",
       "        vertical-align: middle;\n",
       "    }\n",
       "\n",
       "    .dataframe tbody tr th {\n",
       "        vertical-align: top;\n",
       "    }\n",
       "\n",
       "    .dataframe thead th {\n",
       "        text-align: right;\n",
       "    }\n",
       "</style>\n",
       "<table border=\"1\" class=\"dataframe\">\n",
       "  <thead>\n",
       "    <tr style=\"text-align: right;\">\n",
       "      <th></th>\n",
       "      <th>fLxy</th>\n",
       "      <th>fLxysig</th>\n",
       "      <th>fCt</th>\n",
       "      <th>fChi2</th>\n",
       "      <th>fMass_lepD</th>\n",
       "      <th>fMass</th>\n",
       "    </tr>\n",
       "  </thead>\n",
       "  <tbody>\n",
       "    <tr>\n",
       "      <th>0</th>\n",
       "      <td>0.129671</td>\n",
       "      <td>6.558020</td>\n",
       "      <td>0.030979</td>\n",
       "      <td>769.006757</td>\n",
       "      <td>3.401606</td>\n",
       "      <td>1.784360</td>\n",
       "    </tr>\n",
       "    <tr>\n",
       "      <th>1</th>\n",
       "      <td>-0.175531</td>\n",
       "      <td>-5.860181</td>\n",
       "      <td>-0.018892</td>\n",
       "      <td>2.977394</td>\n",
       "      <td>2.403696</td>\n",
       "      <td>1.731940</td>\n",
       "    </tr>\n",
       "    <tr>\n",
       "      <th>2</th>\n",
       "      <td>0.008120</td>\n",
       "      <td>0.203882</td>\n",
       "      <td>0.000488</td>\n",
       "      <td>3.466679</td>\n",
       "      <td>2.168316</td>\n",
       "      <td>1.751959</td>\n",
       "    </tr>\n",
       "    <tr>\n",
       "      <th>3</th>\n",
       "      <td>0.137405</td>\n",
       "      <td>6.973473</td>\n",
       "      <td>0.032456</td>\n",
       "      <td>787.129530</td>\n",
       "      <td>3.468655</td>\n",
       "      <td>1.815586</td>\n",
       "    </tr>\n",
       "    <tr>\n",
       "      <th>4</th>\n",
       "      <td>0.198764</td>\n",
       "      <td>2.020785</td>\n",
       "      <td>0.023120</td>\n",
       "      <td>2.549086</td>\n",
       "      <td>2.164750</td>\n",
       "      <td>1.722707</td>\n",
       "    </tr>\n",
       "  </tbody>\n",
       "</table>\n",
       "</div>"
      ],
      "text/plain": [
       "       fLxy   fLxysig       fCt       fChi2  fMass_lepD     fMass\n",
       "0  0.129671  6.558020  0.030979  769.006757    3.401606  1.784360\n",
       "1 -0.175531 -5.860181 -0.018892    2.977394    2.403696  1.731940\n",
       "2  0.008120  0.203882  0.000488    3.466679    2.168316  1.751959\n",
       "3  0.137405  6.973473  0.032456  787.129530    3.468655  1.815586\n",
       "4  0.198764  2.020785  0.023120    2.549086    2.164750  1.722707"
      ]
     },
     "execution_count": 3,
     "metadata": {},
     "output_type": "execute_result"
    }
   ],
   "source": [
    "data = uproot.open('/Users/chawla19/Topbjets/Bdecays/Parameterization/data2018.root:tree')\n",
    "df2 = data.arrays((\"fLxy\",\"fLxysig\",\"fCt\",\"fChi2\",\"fMass_lepD\",\"fMass\"), library=\"pd\")\n",
    "df2 = df2.reset_index(level='subentry', drop=True)\n",
    "df2 = df2.reset_index(level='entry', drop=True)\n",
    "df2 = df2.reset_index(drop=True)\n",
    "df2.head()"
   ]
  },
  {
   "cell_type": "code",
   "execution_count": 4,
   "id": "04321009",
   "metadata": {},
   "outputs": [
    {
     "data": {
      "text/plain": [
       "57759"
      ]
     },
     "execution_count": 4,
     "metadata": {},
     "output_type": "execute_result"
    }
   ],
   "source": [
    "len(df1.index)"
   ]
  },
  {
   "cell_type": "code",
   "execution_count": 5,
   "id": "3e1f897a",
   "metadata": {},
   "outputs": [
    {
     "data": {
      "text/plain": [
       "468231"
      ]
     },
     "execution_count": 5,
     "metadata": {},
     "output_type": "execute_result"
    }
   ],
   "source": [
    "len(df2.index)"
   ]
  },
  {
   "cell_type": "code",
   "execution_count": 6,
   "id": "0b2b2386",
   "metadata": {},
   "outputs": [],
   "source": [
    "df1 = df1.loc[(df1['fChi2'] < 100) & (df1['fMass'] >= 1.8) & (df1['fMass'] <= 1.9)]\n",
    "df2 = df2.loc[(df2['fChi2'] < 100) & (df2['fMass'] < 1.8) | (df2['fMass'] > 1.9)]"
   ]
  },
  {
   "cell_type": "code",
   "execution_count": 7,
   "id": "f57e45dc",
   "metadata": {},
   "outputs": [
    {
     "data": {
      "text/html": [
       "<div>\n",
       "<style scoped>\n",
       "    .dataframe tbody tr th:only-of-type {\n",
       "        vertical-align: middle;\n",
       "    }\n",
       "\n",
       "    .dataframe tbody tr th {\n",
       "        vertical-align: top;\n",
       "    }\n",
       "\n",
       "    .dataframe thead th {\n",
       "        text-align: right;\n",
       "    }\n",
       "</style>\n",
       "<table border=\"1\" class=\"dataframe\">\n",
       "  <thead>\n",
       "    <tr style=\"text-align: right;\">\n",
       "      <th></th>\n",
       "      <th>fLxy</th>\n",
       "      <th>fLxysig</th>\n",
       "      <th>fCt</th>\n",
       "      <th>fChi2</th>\n",
       "      <th>fMass_lepD</th>\n",
       "      <th>fMass</th>\n",
       "    </tr>\n",
       "  </thead>\n",
       "  <tbody>\n",
       "    <tr>\n",
       "      <th>0</th>\n",
       "      <td>0.894625</td>\n",
       "      <td>68.715301</td>\n",
       "      <td>0.105550</td>\n",
       "      <td>0.371413</td>\n",
       "      <td>3.508988</td>\n",
       "      <td>1.865707</td>\n",
       "    </tr>\n",
       "    <tr>\n",
       "      <th>1</th>\n",
       "      <td>0.087048</td>\n",
       "      <td>4.305304</td>\n",
       "      <td>0.012206</td>\n",
       "      <td>0.102639</td>\n",
       "      <td>2.498656</td>\n",
       "      <td>1.871394</td>\n",
       "    </tr>\n",
       "    <tr>\n",
       "      <th>2</th>\n",
       "      <td>2.602185</td>\n",
       "      <td>56.173694</td>\n",
       "      <td>0.066441</td>\n",
       "      <td>3.094246</td>\n",
       "      <td>3.868814</td>\n",
       "      <td>1.847630</td>\n",
       "    </tr>\n",
       "    <tr>\n",
       "      <th>3</th>\n",
       "      <td>0.187600</td>\n",
       "      <td>10.480328</td>\n",
       "      <td>0.018901</td>\n",
       "      <td>3.967425</td>\n",
       "      <td>3.952805</td>\n",
       "      <td>1.853929</td>\n",
       "    </tr>\n",
       "    <tr>\n",
       "      <th>4</th>\n",
       "      <td>0.507901</td>\n",
       "      <td>16.896989</td>\n",
       "      <td>0.017286</td>\n",
       "      <td>1.283057</td>\n",
       "      <td>3.648766</td>\n",
       "      <td>1.872674</td>\n",
       "    </tr>\n",
       "  </tbody>\n",
       "</table>\n",
       "</div>"
      ],
      "text/plain": [
       "       fLxy    fLxysig       fCt     fChi2  fMass_lepD     fMass\n",
       "0  0.894625  68.715301  0.105550  0.371413    3.508988  1.865707\n",
       "1  0.087048   4.305304  0.012206  0.102639    2.498656  1.871394\n",
       "2  2.602185  56.173694  0.066441  3.094246    3.868814  1.847630\n",
       "3  0.187600  10.480328  0.018901  3.967425    3.952805  1.853929\n",
       "4  0.507901  16.896989  0.017286  1.283057    3.648766  1.872674"
      ]
     },
     "execution_count": 7,
     "metadata": {},
     "output_type": "execute_result"
    }
   ],
   "source": [
    "df1.head()"
   ]
  },
  {
   "cell_type": "code",
   "execution_count": 8,
   "id": "1f0f42c1",
   "metadata": {},
   "outputs": [
    {
     "data": {
      "text/html": [
       "<div>\n",
       "<style scoped>\n",
       "    .dataframe tbody tr th:only-of-type {\n",
       "        vertical-align: middle;\n",
       "    }\n",
       "\n",
       "    .dataframe tbody tr th {\n",
       "        vertical-align: top;\n",
       "    }\n",
       "\n",
       "    .dataframe thead th {\n",
       "        text-align: right;\n",
       "    }\n",
       "</style>\n",
       "<table border=\"1\" class=\"dataframe\">\n",
       "  <thead>\n",
       "    <tr style=\"text-align: right;\">\n",
       "      <th></th>\n",
       "      <th>fLxy</th>\n",
       "      <th>fLxysig</th>\n",
       "      <th>fCt</th>\n",
       "      <th>fChi2</th>\n",
       "      <th>fMass_lepD</th>\n",
       "      <th>fMass</th>\n",
       "    </tr>\n",
       "  </thead>\n",
       "  <tbody>\n",
       "    <tr>\n",
       "      <th>1</th>\n",
       "      <td>-0.175531</td>\n",
       "      <td>-5.860181</td>\n",
       "      <td>-0.018892</td>\n",
       "      <td>2.977394</td>\n",
       "      <td>2.403696</td>\n",
       "      <td>1.731940</td>\n",
       "    </tr>\n",
       "    <tr>\n",
       "      <th>2</th>\n",
       "      <td>0.008120</td>\n",
       "      <td>0.203882</td>\n",
       "      <td>0.000488</td>\n",
       "      <td>3.466679</td>\n",
       "      <td>2.168316</td>\n",
       "      <td>1.751959</td>\n",
       "    </tr>\n",
       "    <tr>\n",
       "      <th>4</th>\n",
       "      <td>0.198764</td>\n",
       "      <td>2.020785</td>\n",
       "      <td>0.023120</td>\n",
       "      <td>2.549086</td>\n",
       "      <td>2.164750</td>\n",
       "      <td>1.722707</td>\n",
       "    </tr>\n",
       "    <tr>\n",
       "      <th>5</th>\n",
       "      <td>0.101003</td>\n",
       "      <td>5.728943</td>\n",
       "      <td>0.016740</td>\n",
       "      <td>9.170443</td>\n",
       "      <td>3.210758</td>\n",
       "      <td>1.764457</td>\n",
       "    </tr>\n",
       "    <tr>\n",
       "      <th>6</th>\n",
       "      <td>-1.084925</td>\n",
       "      <td>-43.731750</td>\n",
       "      <td>-0.139656</td>\n",
       "      <td>629.030565</td>\n",
       "      <td>4.471849</td>\n",
       "      <td>1.929263</td>\n",
       "    </tr>\n",
       "  </tbody>\n",
       "</table>\n",
       "</div>"
      ],
      "text/plain": [
       "       fLxy    fLxysig       fCt       fChi2  fMass_lepD     fMass\n",
       "1 -0.175531  -5.860181 -0.018892    2.977394    2.403696  1.731940\n",
       "2  0.008120   0.203882  0.000488    3.466679    2.168316  1.751959\n",
       "4  0.198764   2.020785  0.023120    2.549086    2.164750  1.722707\n",
       "5  0.101003   5.728943  0.016740    9.170443    3.210758  1.764457\n",
       "6 -1.084925 -43.731750 -0.139656  629.030565    4.471849  1.929263"
      ]
     },
     "execution_count": 8,
     "metadata": {},
     "output_type": "execute_result"
    }
   ],
   "source": [
    "df2.head()"
   ]
  },
  {
   "cell_type": "code",
   "execution_count": 9,
   "id": "44040b64",
   "metadata": {},
   "outputs": [
    {
     "data": {
      "text/plain": [
       "50952"
      ]
     },
     "execution_count": 9,
     "metadata": {},
     "output_type": "execute_result"
    }
   ],
   "source": [
    "len(df1.index)"
   ]
  },
  {
   "cell_type": "code",
   "execution_count": 10,
   "id": "33e0469d",
   "metadata": {},
   "outputs": [
    {
     "data": {
      "text/plain": [
       "275117"
      ]
     },
     "execution_count": 10,
     "metadata": {},
     "output_type": "execute_result"
    }
   ],
   "source": [
    "len(df2.index)"
   ]
  },
  {
   "cell_type": "code",
   "execution_count": 11,
   "id": "4fb06273",
   "metadata": {},
   "outputs": [
    {
     "data": {
      "image/png": "[encoded data removed]",
      "text/plain": [
       "<Figure size 300x300 with 1 Axes>"
      ]
     },
     "metadata": {},
     "output_type": "display_data"
    },
    {
     "data": {
      "image/png": "[encoded data removed]",
      "text/plain": [
       "<Figure size 300x300 with 1 Axes>"
      ]
     },
     "metadata": {},
     "output_type": "display_data"
    },
    {
     "data": {
      "image/png": "[encoded data removed]",
      "text/plain": [
       "<Figure size 300x300 with 1 Axes>"
      ]
     },
     "metadata": {},
     "output_type": "display_data"
    },
    {
     "data": {
      "image/png": "[encoded data removed]",
      "text/plain": [
       "<Figure size 300x300 with 1 Axes>"
      ]
     },
     "metadata": {},
     "output_type": "display_data"
    },
    {
     "data": {
      "image/png": "[encoded data removed]",
      "text/plain": [
       "<Figure size 300x300 with 1 Axes>"
      ]
     },
     "metadata": {},
     "output_type": "display_data"
    }
   ],
   "source": [
    "cols = [\"fLxy\",\"fLxysig\",\"fCt\",\"fChi2\",\"fMass_lepD\"]\n",
    "xrange = [(-1,4),(-10,100),(-0.05,0.2),(0,10),(2,6)]\n",
    "xaxis = ['$L_{\\mathrm{xy}}$ [cm]','$\\sigma_{L_{\\mathrm{xy}}}$ [cm]','ct [cm]','$\\chi^{2}$','$M_{lep+D}$ [GeV']\n",
    "for label,i,j in zip(cols[:],xrange[:],xaxis[:]):\n",
    "    plt.figure(figsize=(3,3))\n",
    "    plt.hist(df1[label], bins=50, color='blue', range=i, label='signal', alpha=0.7, density=True)\n",
    "    plt.hist(df2[label], bins=50, color='red', range=i, label='background', alpha=0.7, density=True)\n",
    "    plt.ylabel(\"Events\")\n",
    "    plt.xlabel(j)\n",
    "    plt.legend(fontsize=8)\n",
    "    plt.show(block=False)\n",
    "    plt.close('all')"
   ]
  },
  {
   "cell_type": "code",
   "execution_count": 16,
   "id": "47dd03d6",
   "metadata": {},
   "outputs": [
    {
     "data": {
      "text/html": [
       "<div>\n",
       "<style scoped>\n",
       "    .dataframe tbody tr th:only-of-type {\n",
       "        vertical-align: middle;\n",
       "    }\n",
       "\n",
       "    .dataframe tbody tr th {\n",
       "        vertical-align: top;\n",
       "    }\n",
       "\n",
       "    .dataframe thead th {\n",
       "        text-align: right;\n",
       "    }\n",
       "</style>\n",
       "<table border=\"1\" class=\"dataframe\">\n",
       "  <thead>\n",
       "    <tr style=\"text-align: right;\">\n",
       "      <th></th>\n",
       "      <th>fLxy</th>\n",
       "      <th>fLxysig</th>\n",
       "      <th>fCt</th>\n",
       "      <th>fMass</th>\n",
       "      <th>class</th>\n",
       "    </tr>\n",
       "  </thead>\n",
       "  <tbody>\n",
       "    <tr>\n",
       "      <th>0</th>\n",
       "      <td>0.894625</td>\n",
       "      <td>68.715301</td>\n",
       "      <td>0.105550</td>\n",
       "      <td>1.865707</td>\n",
       "      <td>1</td>\n",
       "    </tr>\n",
       "    <tr>\n",
       "      <th>1</th>\n",
       "      <td>0.087048</td>\n",
       "      <td>4.305304</td>\n",
       "      <td>0.012206</td>\n",
       "      <td>1.871394</td>\n",
       "      <td>1</td>\n",
       "    </tr>\n",
       "    <tr>\n",
       "      <th>2</th>\n",
       "      <td>2.602185</td>\n",
       "      <td>56.173694</td>\n",
       "      <td>0.066441</td>\n",
       "      <td>1.847630</td>\n",
       "      <td>1</td>\n",
       "    </tr>\n",
       "    <tr>\n",
       "      <th>3</th>\n",
       "      <td>0.187600</td>\n",
       "      <td>10.480328</td>\n",
       "      <td>0.018901</td>\n",
       "      <td>1.853929</td>\n",
       "      <td>1</td>\n",
       "    </tr>\n",
       "    <tr>\n",
       "      <th>4</th>\n",
       "      <td>0.507901</td>\n",
       "      <td>16.896989</td>\n",
       "      <td>0.017286</td>\n",
       "      <td>1.872674</td>\n",
       "      <td>1</td>\n",
       "    </tr>\n",
       "  </tbody>\n",
       "</table>\n",
       "</div>"
      ],
      "text/plain": [
       "       fLxy    fLxysig       fCt     fMass  class\n",
       "0  0.894625  68.715301  0.105550  1.865707      1\n",
       "1  0.087048   4.305304  0.012206  1.871394      1\n",
       "2  2.602185  56.173694  0.066441  1.847630      1\n",
       "3  0.187600  10.480328  0.018901  1.853929      1\n",
       "4  0.507901  16.896989  0.017286  1.872674      1"
      ]
     },
     "execution_count": 16,
     "metadata": {},
     "output_type": "execute_result"
    }
   ],
   "source": [
    "df = pd.concat([df1,df2],ignore_index=True)\n",
    "output1 = np.ones(len(df1.values))\n",
    "output2 = np.zeros(len(df2.values))\n",
    "label = np.concatenate([output1,output2])\n",
    "fMass18 = df['fMass'].tolist()\n",
    "df['class'] = label\n",
    "df['class'] = df['class'].astype(int)\n",
    "df = df.drop('fChi2', axis=1)\n",
    "df = df.drop('fMass_lepD', axis=1)\n",
    "#df = df.drop('fMass', axis=1)\n",
    "df.head()"
   ]
  },
  {
   "cell_type": "code",
   "execution_count": 17,
   "id": "1d7427eb",
   "metadata": {},
   "outputs": [
    {
     "data": {
      "text/plain": [
       "326069"
      ]
     },
     "execution_count": 17,
     "metadata": {},
     "output_type": "execute_result"
    }
   ],
   "source": [
    "len(df)"
   ]
  },
  {
   "cell_type": "markdown",
   "id": "c7c1cc84",
   "metadata": {},
   "source": [
    "# Scaler"
   ]
  },
  {
   "cell_type": "code",
   "execution_count": 110,
   "id": "690c0317",
   "metadata": {
    "scrolled": true
   },
   "outputs": [
    {
     "data": {
      "text/html": [
       "<div>\n",
       "<style scoped>\n",
       "    .dataframe tbody tr th:only-of-type {\n",
       "        vertical-align: middle;\n",
       "    }\n",
       "\n",
       "    .dataframe tbody tr th {\n",
       "        vertical-align: top;\n",
       "    }\n",
       "\n",
       "    .dataframe thead th {\n",
       "        text-align: right;\n",
       "    }\n",
       "</style>\n",
       "<table border=\"1\" class=\"dataframe\">\n",
       "  <thead>\n",
       "    <tr style=\"text-align: right;\">\n",
       "      <th></th>\n",
       "      <th>fLxy</th>\n",
       "      <th>fLxysig</th>\n",
       "      <th>fCt</th>\n",
       "      <th>fMass</th>\n",
       "      <th>class</th>\n",
       "    </tr>\n",
       "  </thead>\n",
       "  <tbody>\n",
       "    <tr>\n",
       "      <th>0</th>\n",
       "      <td>0.174814</td>\n",
       "      <td>0.734649</td>\n",
       "      <td>0.121109</td>\n",
       "      <td>1.865707</td>\n",
       "      <td>1</td>\n",
       "    </tr>\n",
       "    <tr>\n",
       "      <th>1</th>\n",
       "      <td>-0.012660</td>\n",
       "      <td>-0.061620</td>\n",
       "      <td>0.006967</td>\n",
       "      <td>1.871394</td>\n",
       "      <td>1</td>\n",
       "    </tr>\n",
       "    <tr>\n",
       "      <th>2</th>\n",
       "      <td>0.571215</td>\n",
       "      <td>0.579603</td>\n",
       "      <td>0.073286</td>\n",
       "      <td>1.847630</td>\n",
       "      <td>1</td>\n",
       "    </tr>\n",
       "    <tr>\n",
       "      <th>3</th>\n",
       "      <td>0.010683</td>\n",
       "      <td>0.014719</td>\n",
       "      <td>0.015153</td>\n",
       "      <td>1.853929</td>\n",
       "      <td>1</td>\n",
       "    </tr>\n",
       "    <tr>\n",
       "      <th>4</th>\n",
       "      <td>0.085039</td>\n",
       "      <td>0.094045</td>\n",
       "      <td>0.013179</td>\n",
       "      <td>1.872674</td>\n",
       "      <td>1</td>\n",
       "    </tr>\n",
       "  </tbody>\n",
       "</table>\n",
       "</div>"
      ],
      "text/plain": [
       "       fLxy   fLxysig       fCt     fMass  class\n",
       "0  0.174814  0.734649  0.121109  1.865707      1\n",
       "1 -0.012660 -0.061620  0.006967  1.871394      1\n",
       "2  0.571215  0.579603  0.073286  1.847630      1\n",
       "3  0.010683  0.014719  0.015153  1.853929      1\n",
       "4  0.085039  0.094045  0.013179  1.872674      1"
      ]
     },
     "execution_count": 110,
     "metadata": {},
     "output_type": "execute_result"
    }
   ],
   "source": [
    "scaler = StandardScaler()\n",
    "df_scaled = df.drop('class', axis=1)\n",
    "df_scaled = scaler.fit_transform(df_scaled.to_numpy())\n",
    "df_scaled = pd.DataFrame(df_scaled, columns=['fLxy','fLxysig','fCt'])\n",
    "#df_scaled = (df_scaled-df_scaled.mean())/df_scaled.std()\n",
    "#df_scaled['fMass'] = fMass18\n",
    "df_scaled['class'] = label\n",
    "df_scaled['class'] = df_scaled['class'].astype(int)\n",
    "df_scaled.head()"
   ]
  },
  {
   "cell_type": "code",
   "execution_count": 111,
   "id": "e4435241",
   "metadata": {},
   "outputs": [
    {
     "data": {
      "image/png": "[encoded data removed]",
      "text/plain": [
       "<Figure size 300x300 with 1 Axes>"
      ]
     },
     "metadata": {},
     "output_type": "display_data"
    },
    {
     "data": {
      "image/png": "[encoded data removed]",
      "text/plain": [
       "<Figure size 300x300 with 1 Axes>"
      ]
     },
     "metadata": {},
     "output_type": "display_data"
    },
    {
     "data": {
      "image/png": "[encoded data removed]",
      "text/plain": [
       "<Figure size 300x300 with 1 Axes>"
      ]
     },
     "metadata": {},
     "output_type": "display_data"
    }
   ],
   "source": [
    "cols = [\"fLxy\",\"fLxysig\",\"fCt\"]\n",
    "xrange = [(-0.2,0.75),(-1,2),(-0.05,0.2)]\n",
    "xaxis = ['$L_{\\mathrm{xy}}$ [cm]','$\\sigma_{L_{\\mathrm{xy}}}$ [cm]','ct [cm]']\n",
    "for c,i,j in zip(cols[:],xrange[:],xaxis[:]):\n",
    "    plt.figure(figsize=(3,3))\n",
    "    plt.hist(df_scaled[df_scaled[\"class\"]==1][c], bins=50, color='blue', range=i, label='signal', alpha=0.7, density=True)\n",
    "    plt.hist(df_scaled[df_scaled[\"class\"]==0][c], bins=50, color='red', range=i, label='background', alpha=0.7, density=True)\n",
    "    plt.ylabel(\"Events\")\n",
    "    plt.xlabel(j)\n",
    "    plt.legend(fontsize=8)\n",
    "    plt.show()"
   ]
  },
  {
   "cell_type": "code",
   "execution_count": 112,
   "id": "ec1df1cf",
   "metadata": {},
   "outputs": [
    {
     "data": {
      "text/html": [
       "<div>\n",
       "<style scoped>\n",
       "    .dataframe tbody tr th:only-of-type {\n",
       "        vertical-align: middle;\n",
       "    }\n",
       "\n",
       "    .dataframe tbody tr th {\n",
       "        vertical-align: top;\n",
       "    }\n",
       "\n",
       "    .dataframe thead th {\n",
       "        text-align: right;\n",
       "    }\n",
       "</style>\n",
       "<table border=\"1\" class=\"dataframe\">\n",
       "  <thead>\n",
       "    <tr style=\"text-align: right;\">\n",
       "      <th></th>\n",
       "      <th>fLxy</th>\n",
       "      <th>fLxysig</th>\n",
       "      <th>fCt</th>\n",
       "      <th>fMass</th>\n",
       "      <th>class</th>\n",
       "    </tr>\n",
       "  </thead>\n",
       "  <tbody>\n",
       "    <tr>\n",
       "      <th>0</th>\n",
       "      <td>0.174814</td>\n",
       "      <td>0.734649</td>\n",
       "      <td>0.121109</td>\n",
       "      <td>1.865707</td>\n",
       "      <td>1</td>\n",
       "    </tr>\n",
       "    <tr>\n",
       "      <th>1</th>\n",
       "      <td>-0.012660</td>\n",
       "      <td>-0.061620</td>\n",
       "      <td>0.006967</td>\n",
       "      <td>1.871394</td>\n",
       "      <td>1</td>\n",
       "    </tr>\n",
       "    <tr>\n",
       "      <th>2</th>\n",
       "      <td>0.571215</td>\n",
       "      <td>0.579603</td>\n",
       "      <td>0.073286</td>\n",
       "      <td>1.847630</td>\n",
       "      <td>1</td>\n",
       "    </tr>\n",
       "    <tr>\n",
       "      <th>3</th>\n",
       "      <td>0.010683</td>\n",
       "      <td>0.014719</td>\n",
       "      <td>0.015153</td>\n",
       "      <td>1.853929</td>\n",
       "      <td>1</td>\n",
       "    </tr>\n",
       "    <tr>\n",
       "      <th>4</th>\n",
       "      <td>0.085039</td>\n",
       "      <td>0.094045</td>\n",
       "      <td>0.013179</td>\n",
       "      <td>1.872674</td>\n",
       "      <td>1</td>\n",
       "    </tr>\n",
       "  </tbody>\n",
       "</table>\n",
       "</div>"
      ],
      "text/plain": [
       "       fLxy   fLxysig       fCt     fMass  class\n",
       "0  0.174814  0.734649  0.121109  1.865707      1\n",
       "1 -0.012660 -0.061620  0.006967  1.871394      1\n",
       "2  0.571215  0.579603  0.073286  1.847630      1\n",
       "3  0.010683  0.014719  0.015153  1.853929      1\n",
       "4  0.085039  0.094045  0.013179  1.872674      1"
      ]
     },
     "execution_count": 112,
     "metadata": {},
     "output_type": "execute_result"
    }
   ],
   "source": [
    "df = df_scaled\n",
    "df.head()"
   ]
  },
  {
   "cell_type": "markdown",
   "id": "6d53a196",
   "metadata": {},
   "source": [
    "# Train, validation, tests datasets"
   ]
  },
  {
   "cell_type": "code",
   "execution_count": 18,
   "id": "9a732d27",
   "metadata": {},
   "outputs": [
    {
     "data": {
      "text/html": [
       "<div>\n",
       "<style scoped>\n",
       "    .dataframe tbody tr th:only-of-type {\n",
       "        vertical-align: middle;\n",
       "    }\n",
       "\n",
       "    .dataframe tbody tr th {\n",
       "        vertical-align: top;\n",
       "    }\n",
       "\n",
       "    .dataframe thead th {\n",
       "        text-align: right;\n",
       "    }\n",
       "</style>\n",
       "<table border=\"1\" class=\"dataframe\">\n",
       "  <thead>\n",
       "    <tr style=\"text-align: right;\">\n",
       "      <th></th>\n",
       "      <th>fLxy</th>\n",
       "      <th>fLxysig</th>\n",
       "      <th>fCt</th>\n",
       "      <th>fMass</th>\n",
       "      <th>class</th>\n",
       "    </tr>\n",
       "  </thead>\n",
       "  <tbody>\n",
       "    <tr>\n",
       "      <th>65802</th>\n",
       "      <td>0.014655</td>\n",
       "      <td>0.907660</td>\n",
       "      <td>0.002197</td>\n",
       "      <td>1.932817</td>\n",
       "      <td>0</td>\n",
       "    </tr>\n",
       "    <tr>\n",
       "      <th>257630</th>\n",
       "      <td>-0.053329</td>\n",
       "      <td>-1.718979</td>\n",
       "      <td>-0.007031</td>\n",
       "      <td>1.714229</td>\n",
       "      <td>0</td>\n",
       "    </tr>\n",
       "    <tr>\n",
       "      <th>299809</th>\n",
       "      <td>0.056799</td>\n",
       "      <td>2.856669</td>\n",
       "      <td>0.007593</td>\n",
       "      <td>1.982494</td>\n",
       "      <td>0</td>\n",
       "    </tr>\n",
       "    <tr>\n",
       "      <th>7685</th>\n",
       "      <td>0.645502</td>\n",
       "      <td>30.494727</td>\n",
       "      <td>0.079935</td>\n",
       "      <td>1.869532</td>\n",
       "      <td>1</td>\n",
       "    </tr>\n",
       "    <tr>\n",
       "      <th>148065</th>\n",
       "      <td>0.000532</td>\n",
       "      <td>0.027627</td>\n",
       "      <td>0.000036</td>\n",
       "      <td>1.793058</td>\n",
       "      <td>0</td>\n",
       "    </tr>\n",
       "  </tbody>\n",
       "</table>\n",
       "</div>"
      ],
      "text/plain": [
       "            fLxy    fLxysig       fCt     fMass  class\n",
       "65802   0.014655   0.907660  0.002197  1.932817      0\n",
       "257630 -0.053329  -1.718979 -0.007031  1.714229      0\n",
       "299809  0.056799   2.856669  0.007593  1.982494      0\n",
       "7685    0.645502  30.494727  0.079935  1.869532      1\n",
       "148065  0.000532   0.027627  0.000036  1.793058      0"
      ]
     },
     "execution_count": 18,
     "metadata": {},
     "output_type": "execute_result"
    }
   ],
   "source": [
    "df = df.sample(frac=1)\n",
    "df.head()"
   ]
  },
  {
   "cell_type": "code",
   "execution_count": 19,
   "id": "b57a6078",
   "metadata": {},
   "outputs": [],
   "source": [
    "train, valid, test = np.split(df, [int(0.6*len(df)), int(0.8*len(df))])"
   ]
  },
  {
   "cell_type": "code",
   "execution_count": 20,
   "id": "d53ac012",
   "metadata": {},
   "outputs": [
    {
     "name": "stdout",
     "output_type": "stream",
     "text": [
      "195641\n",
      "65214\n",
      "65214\n"
     ]
    }
   ],
   "source": [
    "print(len(train))\n",
    "print(len(valid))\n",
    "print(len(test))"
   ]
  },
  {
   "cell_type": "code",
   "execution_count": 21,
   "id": "b96aba1e",
   "metadata": {},
   "outputs": [],
   "source": [
    "def scale_dataset(dataframe, scale=False, oversample=False):\n",
    "    X = dataframe[dataframe.columns[:-1]].values\n",
    "    y = dataframe[dataframe.columns[-1]].values\n",
    "    \n",
    "    if(scale):\n",
    "        scaler = StandardScaler()\n",
    "        X = scaler.fit_transform(X)\n",
    "    \n",
    "    \n",
    "    if(oversample):\n",
    "        ros = RandomOverSampler()\n",
    "        X, y = ros.fit_resample(X, y)\n",
    "    \n",
    "    data = np.hstack((X, np.reshape(y, (-1, 1))))\n",
    "    \n",
    "    return data, X, y"
   ]
  },
  {
   "cell_type": "code",
   "execution_count": 22,
   "id": "f684c06a",
   "metadata": {},
   "outputs": [],
   "source": [
    "train_, X_train_, y_train = scale_dataset(train, scale=False, oversample=False)\n",
    "valid_, X_valid_, y_valid = scale_dataset(valid, scale=False, oversample=False)\n",
    "test_, X_test_, y_test = scale_dataset(test, scale=False, oversample=False)"
   ]
  },
  {
   "cell_type": "code",
   "execution_count": 23,
   "id": "c144d47c",
   "metadata": {},
   "outputs": [
    {
     "name": "stdout",
     "output_type": "stream",
     "text": [
      "30478\n",
      "165163\n"
     ]
    }
   ],
   "source": [
    "print(len(train[train['class']==1]))\n",
    "print(len(train[train['class']==0]))"
   ]
  },
  {
   "cell_type": "code",
   "execution_count": 25,
   "id": "e07c1aaa",
   "metadata": {},
   "outputs": [],
   "source": [
    "X_train = X_train_[:,:-1]\n",
    "X_valid = X_valid_[:,:-1]\n",
    "X_test = X_test_[:,:-1]"
   ]
  },
  {
   "cell_type": "code",
   "execution_count": 26,
   "id": "f467ebcc",
   "metadata": {},
   "outputs": [
    {
     "data": {
      "text/plain": [
       "array([[ 1.46549065e-02,  9.07659721e-01,  2.19676184e-03],\n",
       "       [-5.33293529e-02, -1.71897926e+00, -7.03135334e-03],\n",
       "       [ 5.67990930e-02,  2.85666853e+00,  7.59299238e-03],\n",
       "       ...,\n",
       "       [ 2.55309290e-01,  5.57073024e+00,  1.31165951e-02],\n",
       "       [ 6.70004775e-02,  2.59696648e+00,  4.28448802e-03],\n",
       "       [ 1.02960004e+00,  6.69474073e+01,  7.16608082e-02]])"
      ]
     },
     "execution_count": 26,
     "metadata": {},
     "output_type": "execute_result"
    }
   ],
   "source": [
    "X_train"
   ]
  },
  {
   "cell_type": "code",
   "execution_count": 27,
   "id": "5ff730c4",
   "metadata": {},
   "outputs": [
    {
     "data": {
      "text/plain": [
       "array([0, 0, 0, ..., 0, 1, 1])"
      ]
     },
     "execution_count": 27,
     "metadata": {},
     "output_type": "execute_result"
    }
   ],
   "source": [
    "y_train"
   ]
  },
  {
   "cell_type": "code",
   "execution_count": 28,
   "id": "b09d66a6",
   "metadata": {},
   "outputs": [
    {
     "name": "stdout",
     "output_type": "stream",
     "text": [
      "195641\n",
      "30478\n",
      "165163\n"
     ]
    }
   ],
   "source": [
    "print(len(y_train))\n",
    "print(sum(y_train==1))\n",
    "print(sum(y_train==0))"
   ]
  },
  {
   "cell_type": "markdown",
   "id": "c992e320",
   "metadata": {},
   "source": [
    "# K neighbors classifier"
   ]
  },
  {
   "cell_type": "code",
   "execution_count": 26,
   "id": "3b804ffb",
   "metadata": {},
   "outputs": [],
   "source": [
    "from sklearn.neighbors import KNeighborsClassifier\n",
    "from sklearn.metrics import classification_report"
   ]
  },
  {
   "cell_type": "code",
   "execution_count": 27,
   "id": "23f6fccb",
   "metadata": {},
   "outputs": [],
   "source": [
    "knn_model = KNeighborsClassifier(n_neighbors=1)\n",
    "knn_model = knn_model.fit(X_train, y_train)"
   ]
  },
  {
   "cell_type": "code",
   "execution_count": 28,
   "id": "e52ceba9",
   "metadata": {},
   "outputs": [],
   "source": [
    "y_pred = knn_model.predict(X_test)"
   ]
  },
  {
   "cell_type": "code",
   "execution_count": 29,
   "id": "354296c8",
   "metadata": {},
   "outputs": [
    {
     "data": {
      "text/plain": [
       "array([1, 1, 1, ..., 1, 0, 0])"
      ]
     },
     "execution_count": 29,
     "metadata": {},
     "output_type": "execute_result"
    }
   ],
   "source": [
    "y_pred"
   ]
  },
  {
   "cell_type": "code",
   "execution_count": 30,
   "id": "323999e5",
   "metadata": {},
   "outputs": [
    {
     "data": {
      "text/plain": [
       "array([0, 1, 1, ..., 0, 0, 0])"
      ]
     },
     "execution_count": 30,
     "metadata": {},
     "output_type": "execute_result"
    }
   ],
   "source": [
    "y_test"
   ]
  },
  {
   "cell_type": "code",
   "execution_count": 31,
   "id": "b4ee25ce",
   "metadata": {},
   "outputs": [
    {
     "name": "stdout",
     "output_type": "stream",
     "text": [
      "              precision    recall  f1-score   support\n",
      "\n",
      "           0       0.93      0.94      0.93     55010\n",
      "           1       0.65      0.63      0.64     10204\n",
      "\n",
      "    accuracy                           0.89     65214\n",
      "   macro avg       0.79      0.78      0.79     65214\n",
      "weighted avg       0.89      0.89      0.89     65214\n",
      "\n"
     ]
    }
   ],
   "source": [
    "print(classification_report(y_test, y_pred))"
   ]
  },
  {
   "cell_type": "markdown",
   "id": "9b92efd2",
   "metadata": {},
   "source": [
    "# Naive Bayes"
   ]
  },
  {
   "cell_type": "code",
   "execution_count": 32,
   "id": "6b425388",
   "metadata": {},
   "outputs": [],
   "source": [
    "from sklearn.naive_bayes import GaussianNB"
   ]
  },
  {
   "cell_type": "code",
   "execution_count": 33,
   "id": "e2db7157",
   "metadata": {},
   "outputs": [],
   "source": [
    "nb_model = GaussianNB()\n",
    "nb_model = nb_model.fit(X_train, y_train)"
   ]
  },
  {
   "cell_type": "code",
   "execution_count": 34,
   "id": "b17cab15",
   "metadata": {},
   "outputs": [
    {
     "name": "stdout",
     "output_type": "stream",
     "text": [
      "              precision    recall  f1-score   support\n",
      "\n",
      "           0       0.92      0.09      0.17     55010\n",
      "           1       0.16      0.96      0.28     10204\n",
      "\n",
      "    accuracy                           0.23     65214\n",
      "   macro avg       0.54      0.52      0.22     65214\n",
      "weighted avg       0.80      0.23      0.19     65214\n",
      "\n"
     ]
    }
   ],
   "source": [
    "y_pred = nb_model.predict(X_test)\n",
    "print(classification_report(y_test, y_pred))"
   ]
  },
  {
   "cell_type": "markdown",
   "id": "07d4b767",
   "metadata": {},
   "source": [
    "# Logistic Regression"
   ]
  },
  {
   "cell_type": "code",
   "execution_count": 35,
   "id": "24305366",
   "metadata": {},
   "outputs": [],
   "source": [
    "from sklearn.linear_model import LogisticRegression"
   ]
  },
  {
   "cell_type": "code",
   "execution_count": 36,
   "id": "3f930987",
   "metadata": {},
   "outputs": [],
   "source": [
    "lg_model = LogisticRegression()\n",
    "lg_model = lg_model.fit(X_train, y_train) "
   ]
  },
  {
   "cell_type": "code",
   "execution_count": 37,
   "id": "64ef4754",
   "metadata": {},
   "outputs": [
    {
     "name": "stdout",
     "output_type": "stream",
     "text": [
      "              precision    recall  f1-score   support\n",
      "\n",
      "           0       0.93      0.91      0.92     55010\n",
      "           1       0.56      0.64      0.60     10204\n",
      "\n",
      "    accuracy                           0.86     65214\n",
      "   macro avg       0.74      0.77      0.76     65214\n",
      "weighted avg       0.87      0.86      0.87     65214\n",
      "\n"
     ]
    }
   ],
   "source": [
    "y_pred = lg_model.predict(X_test)\n",
    "print(classification_report(y_test, y_pred))"
   ]
  },
  {
   "cell_type": "code",
   "execution_count": 38,
   "id": "d383192f",
   "metadata": {},
   "outputs": [],
   "source": [
    "from sklearn.svm import SVC"
   ]
  },
  {
   "cell_type": "code",
   "execution_count": null,
   "id": "d34498ad",
   "metadata": {},
   "outputs": [],
   "source": [
    "svm_model = SVC()\n",
    "svm_model = svm_model.fit(X_train, y_train)"
   ]
  },
  {
   "cell_type": "code",
   "execution_count": null,
   "id": "914ff5a7",
   "metadata": {},
   "outputs": [],
   "source": [
    "y_pred = svm_model.predict(X_test)\n",
    "print(classification_report(y_test, y_pred))"
   ]
  },
  {
   "cell_type": "markdown",
   "id": "6251218a",
   "metadata": {},
   "source": [
    "# Neural Net"
   ]
  },
  {
   "cell_type": "code",
   "execution_count": 30,
   "id": "96f00886",
   "metadata": {},
   "outputs": [],
   "source": [
    "import tensorflow as tf\n",
    "from sklearn import metrics"
   ]
  },
  {
   "cell_type": "code",
   "execution_count": 31,
   "id": "523238a3",
   "metadata": {},
   "outputs": [],
   "source": [
    "def plot_history(history, ss, bs, fpr, tpr):\n",
    "    fig, ax = plt.subplots(2,2 , figsize=(8,6))\n",
    "        \n",
    "    ax[0,0].plot(history.history['loss'], label='loss')\n",
    "    ax[0,0].plot(history.history['val_loss'], label='val_loss')\n",
    "    ax[0,0].set_xlabel('Epoch')\n",
    "    ax[0,0].set_ylabel('Binary crossentropy')\n",
    "    ax[0,0].grid(True)\n",
    "    ax[0,0].legend(fontsize=8)\n",
    "\n",
    "    \n",
    "    ax[0,1].plot(history.history['accuracy'], label='accuracy')\n",
    "    ax[0,1].plot(history.history['val_accuracy'], label='val_accuracy')\n",
    "    ax[0,1].set_xlabel('Epoch')\n",
    "    ax[0,1].set_ylabel('Accuracy')\n",
    "    ax[0,1].grid(True)\n",
    "    ax[0,1].legend(fontsize=8)\n",
    "    \n",
    "    bins = np.linspace(0,1,15)\n",
    "    ax[1,0].hist(ss, bins, alpha=0.3, label='signal')\n",
    "    ax[1,0].hist(bs, bins, alpha=0.3, label='background')    \n",
    "    ax[1,0].set_yscale('log')\n",
    "    #ax[1,0].set_ylim(1,1e-5)\n",
    "    ax[1,0].set_xlabel('DNN score')\n",
    "    ax[1,0].set_ylabel('Events')\n",
    "    ax[1,0].grid(True)\n",
    "    ax[1,0].legend(fontsize=8)\n",
    "    \n",
    "    ax[1,1].plot(fpr, tpr)\n",
    "    ax[1,1].set_xlabel('FPR')\n",
    "    ax[1,1].set_ylabel('TPR')\n",
    "    ax[1,1].grid(True)    \n",
    "    \n",
    "    plt.show()"
   ]
  },
  {
   "cell_type": "code",
   "execution_count": 32,
   "id": "1f4fad50",
   "metadata": {},
   "outputs": [],
   "source": [
    "def train_model(X_train, y_train, num_nodes, dropout_prob, lr, batch_size, epochs):\n",
    "    nn_model = tf.keras.Sequential([\n",
    "        tf.keras.layers.Dense(num_nodes, activation='relu', input_shape=(3,)),\n",
    "        tf.keras.layers.Dropout(dropout_prob),\n",
    "        tf.keras.layers.Dense(num_nodes, activation='relu'),\n",
    "        tf.keras.layers.Dropout(dropout_prob),\n",
    "        tf.keras.layers.Dense(num_nodes, activation='relu'),\n",
    "        tf.keras.layers.Dense(1, activation='sigmoid')\n",
    "    ])\n",
    "\n",
    "    nn_model.compile(optimizer=tf.keras.optimizers.Adam(lr), loss='binary_crossentropy',\n",
    "                metrics=['accuracy'])\n",
    "    history = nn_model.fit(\n",
    "        X_train, y_train, epochs=epochs, batch_size=batch_size, validation_split=0.2, verbose=0\n",
    "    )\n",
    "    return nn_model, history"
   ]
  },
  {
   "cell_type": "code",
   "execution_count": 34,
   "id": "c86631f5",
   "metadata": {},
   "outputs": [
    {
     "name": "stdout",
     "output_type": "stream",
     "text": [
      "50 epochs, nodes 64, dropout 0.3, lr 0.0001, batch size 128\n",
      "2038/2038 [==============================] - 1s 724us/step - loss: 0.1986 - accuracy: 0.9140\n",
      "validation loss 0.19857658445835114\n"
     ]
    }
   ],
   "source": [
    "num_nodes=64\n",
    "dropout_prob=0.3\n",
    "lr=0.0001\n",
    "epochs=50\n",
    "batch_size=128\n",
    "print(f\"{epochs} epochs, nodes {num_nodes}, dropout {dropout_prob}, lr {lr}, batch size {batch_size}\")\n",
    "model, history = train_model(X_train, y_train, num_nodes, dropout_prob, lr, batch_size, epochs)\n",
    "val_loss = model.evaluate(X_valid, y_valid)[0]\n",
    "print(f\"validation loss {val_loss}\")"
   ]
  },
  {
   "cell_type": "code",
   "execution_count": 35,
   "id": "0d14cd50",
   "metadata": {},
   "outputs": [
    {
     "name": "stdout",
     "output_type": "stream",
     "text": [
      "2038/2038 [==============================] - 2s 589us/step\n",
      "10227 54987\n"
     ]
    }
   ],
   "source": [
    "y_pred = model.predict(X_test)\n",
    "y_pred = y_pred.ravel()\n",
    "y_pred = np.round(y_pred, 4)\n",
    "print(np.count_nonzero(y_test), (len(y_test)-np.count_nonzero(y_test)))"
   ]
  },
  {
   "cell_type": "code",
   "execution_count": 36,
   "id": "1aeb6f6a",
   "metadata": {},
   "outputs": [
    {
     "name": "stdout",
     "output_type": "stream",
     "text": [
      "320/320 [==============================] - 0s 592us/step\n",
      "1719/1719 [==============================] - 1s 565us/step\n"
     ]
    }
   ],
   "source": [
    "a = np.delete(test_, [3], axis=1)\n",
    "l = test_[:,-1]\n",
    "X_signal = a[:, :-1][l==1]\n",
    "X_background = a[:, :-1][l==0]\n",
    "sig_scores = model.predict(X_signal)\n",
    "bkg_scores = model.predict(X_background)"
   ]
  },
  {
   "cell_type": "code",
   "execution_count": 37,
   "id": "9bd4cd5a",
   "metadata": {
    "scrolled": true
   },
   "outputs": [
    {
     "data": {
      "image/png": "[encoded data removed]",
      "text/plain": [
       "<Figure size 800x600 with 4 Axes>"
      ]
     },
     "metadata": {},
     "output_type": "display_data"
    },
    {
     "name": "stdout",
     "output_type": "stream",
     "text": [
      "auc=0.9507\n"
     ]
    }
   ],
   "source": [
    "np.set_printoptions(suppress=True, precision=8)\n",
    "fpr, tpr, threshold = metrics.roc_curve(y_test, y_pred, pos_label=1, drop_intermediate=False)\n",
    "threshold = np.round(threshold, 4)\n",
    "plot_history(history, sig_scores, bkg_scores, fpr, tpr)\n",
    "roc_auc = metrics.auc(fpr, tpr)\n",
    "print(f\"auc={roc_auc:.4f}\")"
   ]
  },
  {
   "cell_type": "code",
   "execution_count": 38,
   "id": "b85a31be",
   "metadata": {},
   "outputs": [
    {
     "data": {
      "image/png": "[encoded data removed]",
      "text/plain": [
       "<Figure size 300x300 with 1 Axes>"
      ]
     },
     "metadata": {},
     "output_type": "display_data"
    }
   ],
   "source": [
    "y_pred = (y_pred > 0.5).astype(int).reshape(-1,)\n",
    "y2d_pred = y_pred.reshape(-1,1)\n",
    "plot = np.append(test_, y2d_pred, axis=1)\n",
    "df_test = pd.DataFrame(plot)\n",
    "df_test.columns = [\"fLxy\", \"fLxysig\", \"fCt\", \"fMass\", \"class\", \"pred\"]\n",
    "plt.figure(figsize=(3,3))\n",
    "plt.hist(df_test[df_test[\"pred\"]==1][\"fMass\"], bins=50, range=(1.7,2.0), label='signal', alpha=0.5, density=True)\n",
    "plt.hist(df_test[df_test[\"pred\"]==0][\"fMass\"], bins=50, range=(1.7,2.0), label='background', alpha=0.5, density=True)\n",
    "plt.ylabel(\"Events\")\n",
    "plt.xlabel(\"$M_{D}$ [GeV]\")\n",
    "plt.legend(fontsize=8)\n",
    "plt.show()"
   ]
  },
  {
   "cell_type": "markdown",
   "id": "21c21406",
   "metadata": {},
   "source": [
    "# Neural Net on 2017 data"
   ]
  },
  {
   "cell_type": "code",
   "execution_count": 39,
   "id": "788c08db",
   "metadata": {},
   "outputs": [
    {
     "data": {
      "text/html": [
       "<div>\n",
       "<style scoped>\n",
       "    .dataframe tbody tr th:only-of-type {\n",
       "        vertical-align: middle;\n",
       "    }\n",
       "\n",
       "    .dataframe tbody tr th {\n",
       "        vertical-align: top;\n",
       "    }\n",
       "\n",
       "    .dataframe thead th {\n",
       "        text-align: right;\n",
       "    }\n",
       "</style>\n",
       "<table border=\"1\" class=\"dataframe\">\n",
       "  <thead>\n",
       "    <tr style=\"text-align: right;\">\n",
       "      <th></th>\n",
       "      <th>fLxy</th>\n",
       "      <th>fLxysig</th>\n",
       "      <th>fCt</th>\n",
       "      <th>fMass</th>\n",
       "    </tr>\n",
       "  </thead>\n",
       "  <tbody>\n",
       "    <tr>\n",
       "      <th>0</th>\n",
       "      <td>0.153061</td>\n",
       "      <td>4.320922</td>\n",
       "      <td>0.024241</td>\n",
       "      <td>1.752951</td>\n",
       "    </tr>\n",
       "    <tr>\n",
       "      <th>1</th>\n",
       "      <td>0.022861</td>\n",
       "      <td>0.484397</td>\n",
       "      <td>0.002836</td>\n",
       "      <td>1.877202</td>\n",
       "    </tr>\n",
       "    <tr>\n",
       "      <th>2</th>\n",
       "      <td>-0.031663</td>\n",
       "      <td>-1.089791</td>\n",
       "      <td>-0.002690</td>\n",
       "      <td>1.893363</td>\n",
       "    </tr>\n",
       "    <tr>\n",
       "      <th>3</th>\n",
       "      <td>-0.254575</td>\n",
       "      <td>-5.355148</td>\n",
       "      <td>-0.031536</td>\n",
       "      <td>1.879023</td>\n",
       "    </tr>\n",
       "    <tr>\n",
       "      <th>4</th>\n",
       "      <td>11.240056</td>\n",
       "      <td>597.967880</td>\n",
       "      <td>0.897133</td>\n",
       "      <td>1.860665</td>\n",
       "    </tr>\n",
       "  </tbody>\n",
       "</table>\n",
       "</div>"
      ],
      "text/plain": [
       "        fLxy     fLxysig       fCt     fMass\n",
       "0   0.153061    4.320922  0.024241  1.752951\n",
       "1   0.022861    0.484397  0.002836  1.877202\n",
       "2  -0.031663   -1.089791 -0.002690  1.893363\n",
       "3  -0.254575   -5.355148 -0.031536  1.879023\n",
       "4  11.240056  597.967880  0.897133  1.860665"
      ]
     },
     "execution_count": 39,
     "metadata": {},
     "output_type": "execute_result"
    }
   ],
   "source": [
    "data2017 = uproot.open('/Users/chawla19/Topbjets/Bdecays/Parameterization/data2017.root:tree')\n",
    "df3 = data2017.arrays((\"fLxy\",\"fLxysig\",\"fCt\",\"fChi2\",\"fMass_lepD\",\"fMass\"), library=\"pd\")\n",
    "df3 = df3.reset_index(level='subentry', drop=True)\n",
    "df3 = df3.reset_index(level='entry', drop=True)\n",
    "df3 = df3.reset_index(drop=True)\n",
    "df3 = df3.loc[(df3['fChi2'] < 100)]\n",
    "df3 = df3.drop('fChi2', axis=1)\n",
    "df3 = df3.drop('fMass_lepD', axis=1)\n",
    "df3.head()"
   ]
  },
  {
   "cell_type": "code",
   "execution_count": 40,
   "id": "f8030b49",
   "metadata": {},
   "outputs": [],
   "source": [
    "fMass17 = df3['fMass'].tolist()"
   ]
  },
  {
   "cell_type": "code",
   "execution_count": 41,
   "id": "be49b4c2",
   "metadata": {},
   "outputs": [
    {
     "data": {
      "text/html": [
       "<div>\n",
       "<style scoped>\n",
       "    .dataframe tbody tr th:only-of-type {\n",
       "        vertical-align: middle;\n",
       "    }\n",
       "\n",
       "    .dataframe tbody tr th {\n",
       "        vertical-align: top;\n",
       "    }\n",
       "\n",
       "    .dataframe thead th {\n",
       "        text-align: right;\n",
       "    }\n",
       "</style>\n",
       "<table border=\"1\" class=\"dataframe\">\n",
       "  <thead>\n",
       "    <tr style=\"text-align: right;\">\n",
       "      <th></th>\n",
       "      <th>fLxy</th>\n",
       "      <th>fLxysig</th>\n",
       "      <th>fCt</th>\n",
       "    </tr>\n",
       "  </thead>\n",
       "  <tbody>\n",
       "    <tr>\n",
       "      <th>0</th>\n",
       "      <td>0.153061</td>\n",
       "      <td>4.320922</td>\n",
       "      <td>0.024241</td>\n",
       "    </tr>\n",
       "    <tr>\n",
       "      <th>1</th>\n",
       "      <td>0.022861</td>\n",
       "      <td>0.484397</td>\n",
       "      <td>0.002836</td>\n",
       "    </tr>\n",
       "    <tr>\n",
       "      <th>2</th>\n",
       "      <td>-0.031663</td>\n",
       "      <td>-1.089791</td>\n",
       "      <td>-0.002690</td>\n",
       "    </tr>\n",
       "    <tr>\n",
       "      <th>3</th>\n",
       "      <td>-0.254575</td>\n",
       "      <td>-5.355148</td>\n",
       "      <td>-0.031536</td>\n",
       "    </tr>\n",
       "    <tr>\n",
       "      <th>4</th>\n",
       "      <td>11.240056</td>\n",
       "      <td>597.967880</td>\n",
       "      <td>0.897133</td>\n",
       "    </tr>\n",
       "  </tbody>\n",
       "</table>\n",
       "</div>"
      ],
      "text/plain": [
       "        fLxy     fLxysig       fCt\n",
       "0   0.153061    4.320922  0.024241\n",
       "1   0.022861    0.484397  0.002836\n",
       "2  -0.031663   -1.089791 -0.002690\n",
       "3  -0.254575   -5.355148 -0.031536\n",
       "4  11.240056  597.967880  0.897133"
      ]
     },
     "execution_count": 41,
     "metadata": {},
     "output_type": "execute_result"
    }
   ],
   "source": [
    "df4 = df3.drop('fMass', axis=1)\n",
    "#df4 = scaler.fit_transform(df4.to_numpy())\n",
    "df4 = pd.DataFrame(df4, columns=['fLxy','fLxysig','fCt'])\n",
    "df4.head()"
   ]
  },
  {
   "cell_type": "code",
   "execution_count": 42,
   "id": "09c45d68",
   "metadata": {},
   "outputs": [
    {
     "data": {
      "text/plain": [
       "array([[ 0.15306055,  4.32092217,  0.02424098],\n",
       "       [ 0.02286117,  0.484397  ,  0.00283593],\n",
       "       [-0.03166333, -1.08979056, -0.00269012],\n",
       "       ...,\n",
       "       [23.04815543, 68.4696751 ,  3.65324336],\n",
       "       [-0.05835848, -0.9257588 , -0.00375502],\n",
       "       [ 0.00705297,  0.30916352,  0.00179878]])"
      ]
     },
     "execution_count": 42,
     "metadata": {},
     "output_type": "execute_result"
    }
   ],
   "source": [
    "run2017 = df4.to_numpy()\n",
    "run2017"
   ]
  },
  {
   "cell_type": "code",
   "execution_count": 43,
   "id": "968f0597",
   "metadata": {},
   "outputs": [
    {
     "data": {
      "text/html": [
       "<div>\n",
       "<style scoped>\n",
       "    .dataframe tbody tr th:only-of-type {\n",
       "        vertical-align: middle;\n",
       "    }\n",
       "\n",
       "    .dataframe tbody tr th {\n",
       "        vertical-align: top;\n",
       "    }\n",
       "\n",
       "    .dataframe thead th {\n",
       "        text-align: right;\n",
       "    }\n",
       "</style>\n",
       "<table border=\"1\" class=\"dataframe\">\n",
       "  <thead>\n",
       "    <tr style=\"text-align: right;\">\n",
       "      <th></th>\n",
       "      <th>fLxy</th>\n",
       "      <th>fLxysig</th>\n",
       "      <th>fCt</th>\n",
       "      <th>fMass</th>\n",
       "    </tr>\n",
       "  </thead>\n",
       "  <tbody>\n",
       "    <tr>\n",
       "      <th>0</th>\n",
       "      <td>0.153061</td>\n",
       "      <td>4.320922</td>\n",
       "      <td>0.024241</td>\n",
       "      <td>1.752951</td>\n",
       "    </tr>\n",
       "    <tr>\n",
       "      <th>1</th>\n",
       "      <td>0.022861</td>\n",
       "      <td>0.484397</td>\n",
       "      <td>0.002836</td>\n",
       "      <td>1.877202</td>\n",
       "    </tr>\n",
       "    <tr>\n",
       "      <th>2</th>\n",
       "      <td>-0.031663</td>\n",
       "      <td>-1.089791</td>\n",
       "      <td>-0.002690</td>\n",
       "      <td>1.893363</td>\n",
       "    </tr>\n",
       "    <tr>\n",
       "      <th>3</th>\n",
       "      <td>-0.254575</td>\n",
       "      <td>-5.355148</td>\n",
       "      <td>-0.031536</td>\n",
       "      <td>1.879023</td>\n",
       "    </tr>\n",
       "    <tr>\n",
       "      <th>4</th>\n",
       "      <td>11.240056</td>\n",
       "      <td>597.967880</td>\n",
       "      <td>0.897133</td>\n",
       "      <td>1.860665</td>\n",
       "    </tr>\n",
       "  </tbody>\n",
       "</table>\n",
       "</div>"
      ],
      "text/plain": [
       "        fLxy     fLxysig       fCt     fMass\n",
       "0   0.153061    4.320922  0.024241  1.752951\n",
       "1   0.022861    0.484397  0.002836  1.877202\n",
       "2  -0.031663   -1.089791 -0.002690  1.893363\n",
       "3  -0.254575   -5.355148 -0.031536  1.879023\n",
       "4  11.240056  597.967880  0.897133  1.860665"
      ]
     },
     "execution_count": 43,
     "metadata": {},
     "output_type": "execute_result"
    }
   ],
   "source": [
    "df2017 = df4.assign(fMass = fMass17)\n",
    "df2017.head()"
   ]
  },
  {
   "cell_type": "code",
   "execution_count": 45,
   "id": "e503746d",
   "metadata": {},
   "outputs": [
    {
     "name": "stdout",
     "output_type": "stream",
     "text": [
      "8175/8175 [==============================] - 5s 570us/step\n"
     ]
    },
    {
     "data": {
      "text/html": [
       "<div>\n",
       "<style scoped>\n",
       "    .dataframe tbody tr th:only-of-type {\n",
       "        vertical-align: middle;\n",
       "    }\n",
       "\n",
       "    .dataframe tbody tr th {\n",
       "        vertical-align: top;\n",
       "    }\n",
       "\n",
       "    .dataframe thead th {\n",
       "        text-align: right;\n",
       "    }\n",
       "</style>\n",
       "<table border=\"1\" class=\"dataframe\">\n",
       "  <thead>\n",
       "    <tr style=\"text-align: right;\">\n",
       "      <th></th>\n",
       "      <th>fLxy</th>\n",
       "      <th>fLxysig</th>\n",
       "      <th>fCt</th>\n",
       "      <th>fMass</th>\n",
       "      <th>pred</th>\n",
       "      <th>label</th>\n",
       "    </tr>\n",
       "  </thead>\n",
       "  <tbody>\n",
       "    <tr>\n",
       "      <th>0</th>\n",
       "      <td>0.153061</td>\n",
       "      <td>4.320922</td>\n",
       "      <td>0.024241</td>\n",
       "      <td>1.752951</td>\n",
       "      <td>0.060592</td>\n",
       "      <td>0</td>\n",
       "    </tr>\n",
       "    <tr>\n",
       "      <th>1</th>\n",
       "      <td>0.022861</td>\n",
       "      <td>0.484397</td>\n",
       "      <td>0.002836</td>\n",
       "      <td>1.877202</td>\n",
       "      <td>0.009178</td>\n",
       "      <td>0</td>\n",
       "    </tr>\n",
       "    <tr>\n",
       "      <th>2</th>\n",
       "      <td>-0.031663</td>\n",
       "      <td>-1.089791</td>\n",
       "      <td>-0.002690</td>\n",
       "      <td>1.893363</td>\n",
       "      <td>0.003706</td>\n",
       "      <td>0</td>\n",
       "    </tr>\n",
       "    <tr>\n",
       "      <th>3</th>\n",
       "      <td>-0.254575</td>\n",
       "      <td>-5.355148</td>\n",
       "      <td>-0.031536</td>\n",
       "      <td>1.879023</td>\n",
       "      <td>0.001342</td>\n",
       "      <td>0</td>\n",
       "    </tr>\n",
       "    <tr>\n",
       "      <th>4</th>\n",
       "      <td>11.240056</td>\n",
       "      <td>597.967880</td>\n",
       "      <td>0.897133</td>\n",
       "      <td>1.860665</td>\n",
       "      <td>0.014956</td>\n",
       "      <td>0</td>\n",
       "    </tr>\n",
       "  </tbody>\n",
       "</table>\n",
       "</div>"
      ],
      "text/plain": [
       "        fLxy     fLxysig       fCt     fMass      pred  label\n",
       "0   0.153061    4.320922  0.024241  1.752951  0.060592      0\n",
       "1   0.022861    0.484397  0.002836  1.877202  0.009178      0\n",
       "2  -0.031663   -1.089791 -0.002690  1.893363  0.003706      0\n",
       "3  -0.254575   -5.355148 -0.031536  1.879023  0.001342      0\n",
       "4  11.240056  597.967880  0.897133  1.860665  0.014956      0"
      ]
     },
     "execution_count": 45,
     "metadata": {},
     "output_type": "execute_result"
    }
   ],
   "source": [
    "pred = model.predict(run2017)\n",
    "#pred[:10], len(pred)\n",
    "df2017['pred'] = pred\n",
    "pred = (pred > 0.5).astype(int).reshape(-1,)\n",
    "pred_list = pred.tolist()\n",
    "df2017['label'] = pred_list\n",
    "df2017.head()"
   ]
  },
  {
   "cell_type": "code",
   "execution_count": 46,
   "id": "3f691f6c",
   "metadata": {},
   "outputs": [
    {
     "name": "stdout",
     "output_type": "stream",
     "text": [
      "0    250223\n",
      "1     11350\n",
      "Name: label, dtype: int64\n"
     ]
    }
   ],
   "source": [
    "#print(df17[\"label\"].unique())\n",
    "print(df2017[\"label\"].value_counts())"
   ]
  },
  {
   "cell_type": "code",
   "execution_count": 48,
   "id": "7367c485",
   "metadata": {},
   "outputs": [
    {
     "data": {
      "image/png": "[encoded data removed]",
      "text/plain": [
       "<Figure size 300x300 with 1 Axes>"
      ]
     },
     "metadata": {},
     "output_type": "display_data"
    }
   ],
   "source": [
    "plt.figure(figsize=(3,3))\n",
    "plt.hist(df2017[df2017[\"label\"]==1][\"fMass\"], bins=50, range=(1.7,2), label='signal', alpha=0.5, density=True)\n",
    "#plt.hist(df2017[df2017[\"label\"]==0][\"fMass\"], bins=50, range=(1.7,2.0), label='background', alpha=0.5, density=True)\n",
    "plt.ylabel(\"Events\")\n",
    "plt.xlabel(\"$M_{D}$ [GeV]\")\n",
    "plt.legend(fontsize=8)\n",
    "plt.show()"
   ]
  },
  {
   "cell_type": "code",
   "execution_count": 50,
   "id": "fcf4a025",
   "metadata": {},
   "outputs": [
    {
     "ename": "ImportError",
     "evalue": "dynamic module does not define module export function (PyInit_libPyROOT)",
     "output_type": "error",
     "traceback": [
      "\u001b[0;31m---------------------------------------------------------------------------\u001b[0m",
      "\u001b[0;31mImportError\u001b[0m                               Traceback (most recent call last)",
      "Input \u001b[0;32mIn [50]\u001b[0m, in \u001b[0;36m<cell line: 1>\u001b[0;34m()\u001b[0m\n\u001b[0;32m----> 1\u001b[0m \u001b[38;5;28;01mfrom\u001b[39;00m \u001b[38;5;21;01mROOT\u001b[39;00m \u001b[38;5;28;01mimport\u001b[39;00m TCanvas, gStyle, TH1F\n\u001b[1;32m      2\u001b[0m hMass \u001b[38;5;241m=\u001b[39m TH1F(\u001b[38;5;124m\"\u001b[39m\u001b[38;5;124mhMass\u001b[39m\u001b[38;5;124m\"\u001b[39m, \u001b[38;5;124m\"\u001b[39m\u001b[38;5;124mm(K,#pi)\u001b[39m\u001b[38;5;124m\"\u001b[39m, \u001b[38;5;241m60\u001b[39m, \u001b[38;5;241m1.7\u001b[39m, \u001b[38;5;241m2.0\u001b[39m)\n",
      "File \u001b[0;32m~/local/build/lib/ROOT.py:24\u001b[0m, in \u001b[0;36m<module>\u001b[0;34m\u001b[0m\n\u001b[1;32m     22\u001b[0m \u001b[38;5;66;03m### system and interpreter setup ------------------------------------------------\u001b[39;00m\n\u001b[1;32m     23\u001b[0m \u001b[38;5;28;01mimport\u001b[39;00m \u001b[38;5;21;01mos\u001b[39;00m\u001b[38;5;241m,\u001b[39m \u001b[38;5;21;01msys\u001b[39;00m\u001b[38;5;241m,\u001b[39m \u001b[38;5;21;01mtypes\u001b[39;00m\n\u001b[0;32m---> 24\u001b[0m \u001b[38;5;28;01mimport\u001b[39;00m \u001b[38;5;21;01mcppyy\u001b[39;00m\n\u001b[1;32m     27\u001b[0m \u001b[38;5;66;03m## there's no version_info in 1.5.2\u001b[39;00m\n\u001b[1;32m     28\u001b[0m \u001b[38;5;28;01mif\u001b[39;00m sys\u001b[38;5;241m.\u001b[39mversion[\u001b[38;5;241m0\u001b[39m:\u001b[38;5;241m3\u001b[39m] \u001b[38;5;241m<\u001b[39m \u001b[38;5;124m'\u001b[39m\u001b[38;5;124m2.2\u001b[39m\u001b[38;5;124m'\u001b[39m:\n",
      "File \u001b[0;32m~/local/build/lib/cppyy.py:61\u001b[0m, in \u001b[0;36m<module>\u001b[0;34m\u001b[0m\n\u001b[1;32m     58\u001b[0m    dlflags \u001b[38;5;241m=\u001b[39m sys\u001b[38;5;241m.\u001b[39mgetdlopenflags()\n\u001b[1;32m     59\u001b[0m    sys\u001b[38;5;241m.\u001b[39msetdlopenflags( \u001b[38;5;241m0x100\u001b[39m \u001b[38;5;241m|\u001b[39m \u001b[38;5;241m0x2\u001b[39m )    \u001b[38;5;66;03m# RTLD_GLOBAL | RTLD_NOW\u001b[39;00m\n\u001b[0;32m---> 61\u001b[0m \u001b[38;5;28;01mimport\u001b[39;00m \u001b[38;5;21;01mlibPyROOT\u001b[39;00m \u001b[38;5;28;01mas\u001b[39;00m \u001b[38;5;21;01m_backend\u001b[39;00m\n\u001b[1;32m     63\u001b[0m \u001b[38;5;66;03m# reset dl flags if needed\u001b[39;00m\n\u001b[1;32m     64\u001b[0m \u001b[38;5;28;01mif\u001b[39;00m needsGlobal:\n",
      "\u001b[0;31mImportError\u001b[0m: dynamic module does not define module export function (PyInit_libPyROOT)"
     ]
    }
   ],
   "source": [
    "from ROOT import TCanvas, gStyle, TH1F\n",
    "#hMass = TH1F(\"hMass\", \"m(K,#pi)\", 60, 1.7, 2.0)"
   ]
  },
  {
   "cell_type": "code",
   "execution_count": null,
   "id": "38d44de5",
   "metadata": {},
   "outputs": [],
   "source": []
  }
 ],
 "metadata": {
  "kernelspec": {
   "display_name": "Python 3 (ipykernel)",
   "language": "python",
   "name": "python3"
  },
  "language_info": {
   "codemirror_mode": {
    "name": "ipython",
    "version": 3
   },
   "file_extension": ".py",
   "mimetype": "text/x-python",
   "name": "python",
   "nbconvert_exporter": "python",
   "pygments_lexer": "ipython3",
   "version": "3.9.10"
  }
 },
 "nbformat": 4,
 "nbformat_minor": 5
}
